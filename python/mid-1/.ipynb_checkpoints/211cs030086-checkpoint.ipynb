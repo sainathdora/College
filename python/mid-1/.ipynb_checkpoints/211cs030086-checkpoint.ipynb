{
 "cells": [
  {
   "cell_type": "markdown",
   "id": "08ff9361",
   "metadata": {},
   "source": [
    "## week-2"
   ]
  },
  {
   "cell_type": "markdown",
   "id": "a3931a7a",
   "metadata": {},
   "source": [
    "#### program to print sum of given numbers"
   ]
  },
  {
   "cell_type": "code",
   "execution_count": 1,
   "id": "057acb46",
   "metadata": {},
   "outputs": [
    {
     "ename": "KeyboardInterrupt",
     "evalue": "Interrupted by user",
     "output_type": "error",
     "traceback": [
      "\u001b[1;31m---------------------------------------------------------------------------\u001b[0m",
      "\u001b[1;31mKeyboardInterrupt\u001b[0m                         Traceback (most recent call last)",
      "\u001b[1;32m<ipython-input-1-ca4cb75e465f>\u001b[0m in \u001b[0;36m<module>\u001b[1;34m\u001b[0m\n\u001b[0;32m      1\u001b[0m \u001b[1;32mimport\u001b[0m \u001b[0marray\u001b[0m \u001b[1;32mas\u001b[0m \u001b[0marr\u001b[0m\u001b[1;33m\u001b[0m\u001b[1;33m\u001b[0m\u001b[0m\n\u001b[1;32m----> 2\u001b[1;33m \u001b[0mx\u001b[0m \u001b[1;33m=\u001b[0m \u001b[0mlist\u001b[0m\u001b[1;33m(\u001b[0m\u001b[0mmap\u001b[0m\u001b[1;33m(\u001b[0m\u001b[0mint\u001b[0m\u001b[1;33m,\u001b[0m \u001b[0minput\u001b[0m\u001b[1;33m(\u001b[0m\u001b[1;34m\"Enter numbers in a single line: \"\u001b[0m\u001b[1;33m)\u001b[0m\u001b[1;33m.\u001b[0m\u001b[0msplit\u001b[0m\u001b[1;33m(\u001b[0m\u001b[1;34m' '\u001b[0m\u001b[1;33m)\u001b[0m\u001b[1;33m)\u001b[0m\u001b[1;33m)\u001b[0m\u001b[1;33m\u001b[0m\u001b[1;33m\u001b[0m\u001b[0m\n\u001b[0m\u001b[0;32m      3\u001b[0m \u001b[0mprint\u001b[0m\u001b[1;33m(\u001b[0m\u001b[1;34m\"The sum of given numbers is: \"\u001b[0m\u001b[1;33m,\u001b[0m \u001b[0msum\u001b[0m\u001b[1;33m(\u001b[0m\u001b[0marr\u001b[0m\u001b[1;33m.\u001b[0m\u001b[0marray\u001b[0m\u001b[1;33m(\u001b[0m\u001b[1;34m'i'\u001b[0m\u001b[1;33m,\u001b[0m \u001b[0mx\u001b[0m\u001b[1;33m)\u001b[0m\u001b[1;33m)\u001b[0m\u001b[1;33m)\u001b[0m\u001b[1;33m\u001b[0m\u001b[1;33m\u001b[0m\u001b[0m\n",
      "\u001b[1;32mC:\\ProgramData\\Anaconda3\\lib\\site-packages\\ipykernel\\kernelbase.py\u001b[0m in \u001b[0;36mraw_input\u001b[1;34m(self, prompt)\u001b[0m\n\u001b[0;32m    858\u001b[0m                 \u001b[1;34m\"raw_input was called, but this frontend does not support input requests.\"\u001b[0m\u001b[1;33m\u001b[0m\u001b[1;33m\u001b[0m\u001b[0m\n\u001b[0;32m    859\u001b[0m             )\n\u001b[1;32m--> 860\u001b[1;33m         return self._input_request(str(prompt),\n\u001b[0m\u001b[0;32m    861\u001b[0m             \u001b[0mself\u001b[0m\u001b[1;33m.\u001b[0m\u001b[0m_parent_ident\u001b[0m\u001b[1;33m,\u001b[0m\u001b[1;33m\u001b[0m\u001b[1;33m\u001b[0m\u001b[0m\n\u001b[0;32m    862\u001b[0m             \u001b[0mself\u001b[0m\u001b[1;33m.\u001b[0m\u001b[0m_parent_header\u001b[0m\u001b[1;33m,\u001b[0m\u001b[1;33m\u001b[0m\u001b[1;33m\u001b[0m\u001b[0m\n",
      "\u001b[1;32mC:\\ProgramData\\Anaconda3\\lib\\site-packages\\ipykernel\\kernelbase.py\u001b[0m in \u001b[0;36m_input_request\u001b[1;34m(self, prompt, ident, parent, password)\u001b[0m\n\u001b[0;32m    902\u001b[0m             \u001b[1;32mexcept\u001b[0m \u001b[0mKeyboardInterrupt\u001b[0m\u001b[1;33m:\u001b[0m\u001b[1;33m\u001b[0m\u001b[1;33m\u001b[0m\u001b[0m\n\u001b[0;32m    903\u001b[0m                 \u001b[1;31m# re-raise KeyboardInterrupt, to truncate traceback\u001b[0m\u001b[1;33m\u001b[0m\u001b[1;33m\u001b[0m\u001b[1;33m\u001b[0m\u001b[0m\n\u001b[1;32m--> 904\u001b[1;33m                 \u001b[1;32mraise\u001b[0m \u001b[0mKeyboardInterrupt\u001b[0m\u001b[1;33m(\u001b[0m\u001b[1;34m\"Interrupted by user\"\u001b[0m\u001b[1;33m)\u001b[0m \u001b[1;32mfrom\u001b[0m \u001b[1;32mNone\u001b[0m\u001b[1;33m\u001b[0m\u001b[1;33m\u001b[0m\u001b[0m\n\u001b[0m\u001b[0;32m    905\u001b[0m             \u001b[1;32mexcept\u001b[0m \u001b[0mException\u001b[0m \u001b[1;32mas\u001b[0m \u001b[0me\u001b[0m\u001b[1;33m:\u001b[0m\u001b[1;33m\u001b[0m\u001b[1;33m\u001b[0m\u001b[0m\n\u001b[0;32m    906\u001b[0m                 \u001b[0mself\u001b[0m\u001b[1;33m.\u001b[0m\u001b[0mlog\u001b[0m\u001b[1;33m.\u001b[0m\u001b[0mwarning\u001b[0m\u001b[1;33m(\u001b[0m\u001b[1;34m\"Invalid Message:\"\u001b[0m\u001b[1;33m,\u001b[0m \u001b[0mexc_info\u001b[0m\u001b[1;33m=\u001b[0m\u001b[1;32mTrue\u001b[0m\u001b[1;33m)\u001b[0m\u001b[1;33m\u001b[0m\u001b[1;33m\u001b[0m\u001b[0m\n",
      "\u001b[1;31mKeyboardInterrupt\u001b[0m: Interrupted by user"
     ]
    }
   ],
   "source": [
    "import array as arr\n",
    "x = list(map(int, input(\"Enter numbers in a single line: \").split(' ')))\n",
    "print(\"The sum of given numbers is: \", sum(arr.array('i', x)))"
   ]
  },
  {
   "cell_type": "markdown",
   "id": "a06c8c2a",
   "metadata": {},
   "source": [
    "### Factorial of a given number"
   ]
  },
  {
   "cell_type": "code",
   "execution_count": null,
   "id": "3a74199c",
   "metadata": {},
   "outputs": [],
   "source": [
    "#Factorial of a given number \n",
    "def f(n):\n",
    "    if(n<=1):\n",
    "        return 1\n",
    "    return n*f(n-1)\n",
    "z = int(input('Enter the number: '))\n",
    "print(f\"Factorial of {z} is: {f(z)}\")\n",
    "\n"
   ]
  },
  {
   "cell_type": "markdown",
   "id": "e55ce8c2",
   "metadata": {},
   "source": [
    "#### max & min of an array"
   ]
  },
  {
   "cell_type": "code",
   "execution_count": null,
   "id": "15bf844f",
   "metadata": {},
   "outputs": [],
   "source": [
    "import array as arr\n",
    "z = list(map(int, input(\"Enter values of array in a single line: \").split(' ')))\n",
    "x = arr.array('i', z)\n",
    "print(\"The maximum of the given array: \", max(x))\n",
    "print(\"The maximum of the given array: \", min(x))"
   ]
  },
  {
   "cell_type": "markdown",
   "id": "c3aab57c",
   "metadata": {},
   "source": [
    "#### print number of occurrences in a text file"
   ]
  },
  {
   "cell_type": "code",
   "execution_count": null,
   "id": "5f98d331",
   "metadata": {},
   "outputs": [],
   "source": [
    "with open('sample.txt') as f:\n",
    "    content = f.read()\n",
    "d = {\n",
    "    'Mango':0,\n",
    "    'Banana':0,\n",
    "    'Apple':0,\n",
    "    'Pear':0,\n",
    "    'Grapes':0,\n",
    "    'Strawberry':0,\n",
    "    'Kiwi': 0\n",
    "}\n",
    "print(content)\n",
    "#group the words\n",
    "content = content.replace('\\n', ' ')\n",
    "l = [i.capitalize() for i in content.split(' ')]\n",
    "for i in l:\n",
    "    if(i in d.keys()):\n",
    "        d[i] += 1\n",
    "print('\\n')\n",
    "for i, j in d.items():\n",
    "    print(i, j, sep=': ')"
   ]
  },
  {
   "cell_type": "markdown",
   "id": "8226cb13",
   "metadata": {},
   "source": [
    "## Week-3"
   ]
  },
  {
   "cell_type": "markdown",
   "id": "8c55af6b",
   "metadata": {},
   "source": [
    "#### Binary search"
   ]
  },
  {
   "cell_type": "code",
   "execution_count": null,
   "id": "2661ffd9",
   "metadata": {},
   "outputs": [],
   "source": [
    "x = [10, 20, 30, 65, 71, 79, 89]\n",
    "\n",
    "def BS(n, v):\n",
    "    high = len(n)-1\n",
    "    low = 0\n",
    "    mid = int(0.5*(high+low))\n",
    "    if(n[mid]==v):\n",
    "        return f\"Found the element at: {mid} index(n[{mid}]={v})\"\n",
    "    while(n[mid] != v):\n",
    "        #if the value is towards the left\n",
    "        if(n[mid]>v):\n",
    "        \n",
    "            high = mid\n",
    "            mid = int((low+high)/2)\n",
    "            if(n[mid]==v):\n",
    "                return f\"Found the value at {mid} index: n[{mid}]={v}\"\n",
    "            if(n[low]==v):\n",
    "                return f'Found the valaue at {low} index: n[{low}] = {v}'\n",
    "            if(not v in n):\n",
    "                return \"No element found\"\n",
    "            \n",
    "        #if the value is towards the right\n",
    "        elif(n[mid]<v):\n",
    "            \n",
    "            low = mid\n",
    "            mid = int((low+high)/2)\n",
    "            if(n[mid]==v):\n",
    "                return f\"Found the element at {mid} index: n[{mid}]={v}\"\n",
    "            if(n[high] == v):\n",
    "                return f\"Found the elemet at {low} index: n[{low}] = {v}\"\n",
    "            if(not v in n):\n",
    "                return \"No element found\"\n",
    "        \n",
    "        \n",
    "    \n",
    "print(BS(x, 999))\n"
   ]
  },
  {
   "cell_type": "markdown",
   "id": "1c8ef2e8",
   "metadata": {},
   "source": [
    "### Bubble sort"
   ]
  },
  {
   "cell_type": "code",
   "execution_count": 9,
   "id": "b0fc8b8f",
   "metadata": {},
   "outputs": [
    {
     "name": "stdout",
     "output_type": "stream",
     "text": [
      "[5, 10, 20, 65, 71, 79, 89]\n",
      "[5, 10, 20, 65, 71, 79, 89]\n"
     ]
    }
   ],
   "source": [
    "z = [20, 10, 5, 65, 71, 89, 79]\n",
    "\n",
    "def bubble_sort(n):\n",
    "    pause = 1\n",
    "    while pause != 0:\n",
    "        f = False\n",
    "        for i in range(0, len(n)):\n",
    "            if(i != len(n)-1):\n",
    "                if(n[i]>n[i+1]):\n",
    "                    #swap the element\n",
    "                    n[i], n[i+1] = n[i+1],n[i]\n",
    "                    f = True\n",
    "            else:\n",
    "                continue\n",
    "        if(not f):\n",
    "            pause = 0\n",
    "    return n\n",
    "print(bubble_sort(z))"
   ]
  },
  {
   "cell_type": "markdown",
   "id": "48ffdf48",
   "metadata": {},
   "source": [
    "## week-4"
   ]
  },
  {
   "cell_type": "markdown",
   "id": "0f401ee7",
   "metadata": {},
   "source": [
    "### Selection sort"
   ]
  },
  {
   "cell_type": "code",
   "execution_count": 12,
   "id": "4cef1f94",
   "metadata": {},
   "outputs": [
    {
     "name": "stdout",
     "output_type": "stream",
     "text": [
      "[2, 3, 4, 5, 6, 8]\n"
     ]
    }
   ],
   "source": [
    "x =  [8,6,3,2,5,4]\n",
    "def SS(n):\n",
    "    for i in range(len(n)):\n",
    "        k = i\n",
    "        for j in range(i, len(n)):\n",
    "            if(n[j]<n[k]):\n",
    "                k = j\n",
    "            if(j == len(n)-1):\n",
    "                n[i],n[k] = n[k],n[i]\n",
    "    return n\n",
    "print(SS(x))"
   ]
  },
  {
   "cell_type": "markdown",
   "id": "339afc23",
   "metadata": {},
   "source": [
    "### quick sort"
   ]
  },
  {
   "cell_type": "code",
   "execution_count": 24,
   "id": "8cbba9d5",
   "metadata": {},
   "outputs": [
    {
     "data": {
      "text/plain": [
       "[3, 5, 6, 8, 9, 10, 12, 15, 16]"
      ]
     },
     "execution_count": 24,
     "metadata": {},
     "output_type": "execute_result"
    }
   ],
   "source": [
    "x = [10,16,8,12,15,6,3,9,5]\n",
    "def QS(n):\n",
    "    if(len(n)<=1):\n",
    "        return n\n",
    "    else:\n",
    "        pivot = n[0]\n",
    "        l = []\n",
    "        r = []\n",
    "        for i in n:\n",
    "            if(i>pivot):\n",
    "                r.append(i)\n",
    "            elif(i<pivot):\n",
    "                l.append(i)\n",
    "        return QS(l) + [pivot] + QS(r)\n",
    "QS(x)"
   ]
  },
  {
   "cell_type": "markdown",
   "id": "f22c53f4",
   "metadata": {},
   "source": [
    "### Stack"
   ]
  },
  {
   "cell_type": "code",
   "execution_count": 21,
   "id": "4057154f",
   "metadata": {},
   "outputs": [
    {
     "name": "stdout",
     "output_type": "stream",
     "text": [
      "**** Stack DATA STRUCTURE USING ARRAYS  ****\n",
      "Enter the size: 4\n",
      "1.Push \n",
      "2.Pop \n",
      "3.Is Full \n",
      "4. Is Empty \n",
      "5. size \n",
      "6. Display \n",
      "7.Quit \n",
      "Enter the operation: 1\n",
      "Enter the Element you want to add: 21\n",
      "successully added\n",
      "Enter the operation: 43\n",
      "invalid operation\n",
      "Enter the operation: 1\n",
      "Enter the Element you want to add: 9\n",
      "successully added\n",
      "Enter the operation: 5\n",
      "Size of stack currently is: 2\n",
      "Enter the operation: 1\n",
      "Enter the Element you want to add: 2\n",
      "successully added\n",
      "Enter the operation: 1\n",
      "Enter the Element you want to add: 87\n",
      "successully added\n",
      "Enter the operation: 1\n",
      "Enter the Element you want to add: 3223\n",
      "The stack is full.\n",
      "Enter the operation: 7\n",
      "\t **Thank You**\n"
     ]
    }
   ],
   "source": [
    "import array as arr\n",
    "class Stack:\n",
    "    def __init__(self, length):\n",
    "        self.top = -1\n",
    "        self.l = length\n",
    "        self.stack = arr.array(\"i\", [])\n",
    "\n",
    "    def isFull(self):\n",
    "        return self.top == self.l - 1\n",
    "\n",
    "    def isEmpty(self):\n",
    "        return self.top == -1\n",
    "\n",
    "    def Push(self,ele):\n",
    "        if (not self.isFull()):\n",
    "            self.stack.append(ele)\n",
    "            print(\"successully added\")\n",
    "            self.top += 1\n",
    "            return True\n",
    "        else:\n",
    "            print(\"The stack is full.\")\n",
    "            return False\n",
    "    def Pop(self):\n",
    "        if (not self.isEmpty()):\n",
    "            self.top -= 1\n",
    "            self.stack.pop()\n",
    "            return True\n",
    "        else:\n",
    "            print(\"Cant delete further\")\n",
    "            return False\n",
    "    def size(self):\n",
    "        print(f\"Size of stack currently is: {len(self.stack)}\")\n",
    "    def display(self):\n",
    "        if(len(self.stack)):\n",
    "            for i in self.stack:\n",
    "                print(i, end = \" \")\n",
    "            print('\\n')\n",
    "        else:\n",
    "            print(\"The stack is empty nothing to be displayed\")\n",
    "\n",
    "print(\"**** Stack DATA STRUCTURE USING ARRAYS  ****\")\n",
    "\n",
    "size = int(input(\"Enter the size: \"))\n",
    "print(\"1.Push \\n2.Pop \\n3.Is Full \\n4. Is Empty \\n5. size \\n6. Display \\n7.Quit \")\n",
    "obj = Stack(size)\n",
    "ask = 1\n",
    "while (ask != 7):\n",
    "    ask = int(input(\"Enter the operation: \"))\n",
    "    if(ask == 1):\n",
    "        ele = int(input(\"Enter the Element you want to add: \"))\n",
    "        obj.Push(ele)\n",
    "    elif(ask == 2):\n",
    "        obj.Pop()\n",
    "    elif(ask == 3):\n",
    "        print(obj.isFull())\n",
    "    elif(ask == 4):\n",
    "        obj.isEmpty()\n",
    "    elif(ask == 5):\n",
    "        obj.size()\n",
    "    elif(ask == 6):\n",
    "        obj.display()\n",
    "    elif(ask!=7):\n",
    "        print(\"invalid operation\")\n",
    "print(\"\\t **Thank You**\")"
   ]
  },
  {
   "cell_type": "markdown",
   "id": "272b02de",
   "metadata": {},
   "source": [
    "### Deque"
   ]
  },
  {
   "cell_type": "code",
   "execution_count": 32,
   "id": "a7874eb8",
   "metadata": {},
   "outputs": [
    {
     "name": "stdout",
     "output_type": "stream",
     "text": [
      "The queue is full element cant be inserted\n",
      "2 \n",
      "\n"
     ]
    }
   ],
   "source": [
    "import array as arr\n",
    "class Queue:\n",
    "    def __init__(self, length):\n",
    "        self.front = -1\n",
    "        self.l = length\n",
    "        self.q = arr.array(\"i\", [])\n",
    "    def enque(self, ele):\n",
    "        #insertion\n",
    "        if(not self.isFull()):\n",
    "            self.front += 1\n",
    "            self.q.append(ele)\n",
    "        else:\n",
    "            print(\"The queue is full element cant be inserted\")\n",
    "    def deque(self):\n",
    "        #deletion\n",
    "        if(not self.isEmpty()):\n",
    "            self.q.pop()\n",
    "            self.front -= 1\n",
    "        else:\n",
    "            print(\"The Queue is empty nothing to be deleted\")\n",
    "    def isFull(self):\n",
    "        return self.front == self.l-1\n",
    "    def isEmpty(self):\n",
    "        return self.front == -1\n",
    "    def display(self):\n",
    "        if(not self.isEmpty()):\n",
    "            for i in self.q:\n",
    "                print(i, end=' ')\n",
    "            print('\\n')\n",
    "        else:\n",
    "            print(\"The Queue is empty\")\n",
    "\n",
    "ob = Queue(1)\n",
    "ob.enque(2)\n",
    "ob.enque(4)\n",
    "ob.display()"
   ]
  },
  {
   "cell_type": "raw",
   "id": "1887be04",
   "metadata": {},
   "source": [
    "from array import *\n",
    "queue = array(\"i\",[])\n",
    "front = -1\n",
    "print(\" **** QUEUE DATA STRUCTURE USING ARRAYS  ****\")\n",
    "s = int(input(\" Enter the size of the Queue:\"))\n",
    "def enqueue(ele):\n",
    "    global front\n",
    "    if isFull() == False:\n",
    "        Top += 1\n",
    "        queue.append(ele)\n",
    "        print(\" Insertion Successful\")\n",
    "    else:\n",
    "        print(\" queue OverFlow: Insertion Failed\")\n",
    "        \n",
    "def dequeue():\n",
    "    global rear\n",
    "    if isEmpty() == False:\n",
    "        re = queue[front]\n",
    "        front -= 1\n",
    "        queue.rear()\n",
    "        # queue.remove(front)\n",
    "        print(\" Deletion Successful\")\n",
    "        return re\n",
    "    else:\n",
    "        print(\" queue UnderFlow: Deletion Failed\")\n",
    "        \n",
    "def isFull():\n",
    "    return front == s-1\n",
    "        \n",
    "def isEmpty():\n",
    "    return front == -1\n",
    "\n",
    "def size():\n",
    "    return front +1\n",
    "\n",
    "def show():\n",
    "    print(\" The elements in the queue are:\", end = \" \")\n",
    "    for i in range(front+1):\n",
    "        print(queue[i], end= \"  \")\n",
    "    print(\"..\")\n",
    "ch = 1\n",
    "while(ch):\n",
    "    print(\" 1.enqueue\\n 2.dequeue\\n 3.Is Full\\n 4.Is Empty\\n 5.Size\\n 6.Display\\n 7. Quit\")\n",
    "    ch = int(input(\" Enter your Choice:\"))\n",
    "    if ch == 1:\n",
    "        i = int(input(\" Enter an element:\"))\n",
    "        enqueue(i)\n",
    "    elif ch == 2:\n",
    "        print(\" The element Deleted from the queue is\", dequeue())\n",
    "    elif ch == 3:\n",
    "        r = isFull()\n",
    "        if r == True:\n",
    "            print(\" The queue is Full\")\n",
    "        else:\n",
    "            print(\" The queue is not Full\")\n",
    "    elif ch == 4:\n",
    "        r = isEmpty()\n",
    "        if r == True:\n",
    "            print(\" The queue is Empty\")\n",
    "        else:\n",
    "            print(\" The queue is not Empty\")  \n",
    "    elif ch == 5:\n",
    "        print(f\" The number of elements entered into the queue are: {size()}\")\n",
    "    elif ch == 6:\n",
    "        show()\n",
    "    elif ch == 7:\n",
    "        print(\" THANK YOU.....\")\n",
    "        break\n",
    "    else:\n",
    "        print(\" Invalid Choice\")    "
   ]
  },
  {
   "cell_type": "code",
   "execution_count": null,
   "id": "cdaa4cbd",
   "metadata": {},
   "outputs": [],
   "source": []
  }
 ],
 "metadata": {
  "kernelspec": {
   "display_name": "Python 3 (ipykernel)",
   "language": "python",
   "name": "python3"
  },
  "language_info": {
   "codemirror_mode": {
    "name": "ipython",
    "version": 3
   },
   "file_extension": ".py",
   "mimetype": "text/x-python",
   "name": "python",
   "nbconvert_exporter": "python",
   "pygments_lexer": "ipython3",
   "version": "3.9.12"
  }
 },
 "nbformat": 4,
 "nbformat_minor": 5
}
