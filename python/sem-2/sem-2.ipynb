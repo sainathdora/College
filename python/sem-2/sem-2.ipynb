{
 "cells": [
  {
   "cell_type": "markdown",
   "id": "0c43365b",
   "metadata": {},
   "source": [
    "## BFS"
   ]
  },
  {
   "cell_type": "code",
   "execution_count": null,
   "id": "b7275f44",
   "metadata": {},
   "outputs": [
    {
     "name": "stdout",
     "output_type": "stream",
     "text": [
      "1\n",
      "2\n",
      "3\n",
      "4\n",
      "5\n",
      "6\n",
      "7\n"
     ]
    }
   ],
   "source": [
    "graph = {\n",
    "    '1':['2', '3', '4'],\n",
    "    '2':['1', '3'],\n",
    "    '3':'1 2 4 5'.split(' '),\n",
    "    '4': '1 3 5'.split(' '),\n",
    "    '5': '4 3 6 7'.split(' '),\n",
    "    '6': ['5'],\n",
    "    '7': ['5']\n",
    "}\n",
    "\n",
    "def BST(g, sv):\n",
    "    visited, queue = [], []\n",
    "    #visit the vertex\n",
    "    visited.append(sv)\n",
    "    print(sv)\n",
    "    queue.append(sv)\n",
    "    while True:\n",
    "        #select the new vertex from queue\n",
    "        if (len(queue)):\n",
    "            current_vertex = queue[0]\n",
    "            #delete the new vertex from queue\n",
    "            queue.pop(0)\n",
    "        #if current element has no adjacent elements to explore\n",
    "        if(g[f'{current_vertex}'] in visited):\n",
    "             break\n",
    "        \n",
    "        #explore the current vertex\n",
    "        for i in g[f'{current_vertex}']:\n",
    "            if (i not in visited):\n",
    "                print(i)\n",
    "                visited.append(i)\n",
    "                queue.append(i)\n",
    "        \n",
    "BST(graph, '1')"
   ]
  },
  {
   "cell_type": "markdown",
   "id": "d7ae0e94",
   "metadata": {},
   "source": [
    "## quick sort using input method"
   ]
  },
  {
   "cell_type": "code",
   "execution_count": 7,
   "id": "96cc252a",
   "metadata": {},
   "outputs": [
    {
     "name": "stdout",
     "output_type": "stream",
     "text": [
      "Enter the numbers: 90 89 78\n",
      "[78, 89, 90]\n"
     ]
    }
   ],
   "source": [
    "x = list(map(int, input(\"Enter the numbers: \").split(' ')))\n",
    "def QS(n):\n",
    "    if(len(n)<=1):\n",
    "        return n\n",
    "    else:\n",
    "        pivot = n[0]\n",
    "        lh = []\n",
    "        rh = []\n",
    "        for i in n:\n",
    "            if(i>pivot):\n",
    "                rh.append(i)\n",
    "            elif(i<pivot):\n",
    "                lh.append(i)\n",
    "        return QS(lh) + [pivot] + QS(rh)\n",
    "print(QS(x))"
   ]
  },
  {
   "cell_type": "markdown",
   "id": "eea3245f",
   "metadata": {},
   "source": [
    "## Bubble sort"
   ]
  },
  {
   "cell_type": "code",
   "execution_count": 9,
   "id": "43c29816",
   "metadata": {},
   "outputs": [
    {
     "name": "stdout",
     "output_type": "stream",
     "text": [
      "[5, 10, 20, 65, 71, 79, 89]\n"
     ]
    }
   ],
   "source": [
    "z = [20, 10, 5, 65, 71, 89, 79]\n",
    "\n",
    "def bubble_sort(n):\n",
    "    pause = 1\n",
    "    while pause != 0:\n",
    "        f = False\n",
    "        for i in range(0, len(n)):\n",
    "            if(i != len(n)-1):\n",
    "                if(n[i]>n[i+1]):\n",
    "                    #swap the element\n",
    "                    n[i], n[i+1] = n[i+1],n[i]\n",
    "                    f = True\n",
    "            else:\n",
    "                continue\n",
    "        if(not f):\n",
    "            pause = 0\n",
    "    return n\n",
    "print(bubble_sort(z))"
   ]
  },
  {
   "cell_type": "markdown",
   "id": "eb122917",
   "metadata": {},
   "source": [
    "## selection sort"
   ]
  },
  {
   "cell_type": "code",
   "execution_count": 11,
   "id": "29f7c43a",
   "metadata": {},
   "outputs": [
    {
     "name": "stdout",
     "output_type": "stream",
     "text": [
      "[2, 3, 4, 5, 6, 8]\n"
     ]
    }
   ],
   "source": [
    "x =  [8,6,3,2,5,4]\n",
    "def SS(n):\n",
    "\tfor i in range(len(n)):\n",
    "\t\tk = i\n",
    "\t\tfor j in range(i, len(n)):\n",
    "\t\t\tif(n[j]<n[k]):\n",
    "\t\t\t\tk = j\n",
    "\t\t\tif(j == len(n)-1):\n",
    "\t\t\t\tn[i],n[k] = n[k],n[i]\n",
    "\treturn n\n",
    "print(SS(x))"
   ]
  },
  {
   "cell_type": "code",
   "execution_count": null,
   "id": "f01af142",
   "metadata": {},
   "outputs": [],
   "source": []
  }
 ],
 "metadata": {
  "kernelspec": {
   "display_name": "Python 3 (ipykernel)",
   "language": "python",
   "name": "python3"
  },
  "language_info": {
   "codemirror_mode": {
    "name": "ipython",
    "version": 3
   },
   "file_extension": ".py",
   "mimetype": "text/x-python",
   "name": "python",
   "nbconvert_exporter": "python",
   "pygments_lexer": "ipython3",
   "version": "3.9.12"
  }
 },
 "nbformat": 4,
 "nbformat_minor": 5
}
