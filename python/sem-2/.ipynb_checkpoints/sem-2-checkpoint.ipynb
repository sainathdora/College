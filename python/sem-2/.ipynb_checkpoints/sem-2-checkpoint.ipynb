{
 "cells": [
  {
   "cell_type": "markdown",
   "id": "0c43365b",
   "metadata": {},
   "source": [
    "## BFS"
   ]
  },
  {
   "cell_type": "code",
   "execution_count": null,
   "id": "b7275f44",
   "metadata": {},
   "outputs": [
    {
     "name": "stdout",
     "output_type": "stream",
     "text": [
      "1\n",
      "2\n",
      "3\n",
      "4\n",
      "5\n",
      "6\n",
      "7\n"
     ]
    }
   ],
   "source": [
    "graph = {\n",
    "    '1':['2', '3', '4'],\n",
    "    '2':['1', '3'],\n",
    "    '3':'1 2 4 5'.split(' '),\n",
    "    '4': '1 3 5'.split(' '),\n",
    "    '5': '4 3 6 7'.split(' '),\n",
    "    '6': ['5'],\n",
    "    '7': ['5']\n",
    "}\n",
    "\n",
    "def BST(g, sv):\n",
    "    visited, queue = [], []\n",
    "    #visit the vertex\n",
    "    visited.append(sv)\n",
    "    print(sv)\n",
    "    queue.append(sv)\n",
    "    while True:\n",
    "        #select the new vertex from queue\n",
    "        if (len(queue)):\n",
    "            current_vertex = queue[0]\n",
    "            #delete the new vertex from queue\n",
    "            queue.pop(0)\n",
    "        #if current element has no adjacent elements to explore\n",
    "        if(g[f'{current_vertex}'] in visited):\n",
    "             break\n",
    "        \n",
    "        #explore the current vertex\n",
    "        for i in g[f'{current_vertex}']:\n",
    "            if (i not in visited):\n",
    "                print(i)\n",
    "                visited.append(i)\n",
    "                queue.append(i)\n",
    "        \n",
    "BST(graph, '1')"
   ]
  },
  {
   "cell_type": "code",
   "execution_count": null,
   "id": "a0f28f34",
   "metadata": {},
   "outputs": [],
   "source": []
  },
  {
   "cell_type": "code",
   "execution_count": null,
   "id": "96cc252a",
   "metadata": {},
   "outputs": [],
   "source": []
  }
 ],
 "metadata": {
  "kernelspec": {
   "display_name": "Python 3 (ipykernel)",
   "language": "python",
   "name": "python3"
  },
  "language_info": {
   "codemirror_mode": {
    "name": "ipython",
    "version": 3
   },
   "file_extension": ".py",
   "mimetype": "text/x-python",
   "name": "python",
   "nbconvert_exporter": "python",
   "pygments_lexer": "ipython3",
   "version": "3.9.12"
  }
 },
 "nbformat": 4,
 "nbformat_minor": 5
}
