{
 "cells": [
  {
   "cell_type": "code",
   "execution_count": 37,
   "id": "a5f93af5",
   "metadata": {},
   "outputs": [],
   "source": [
    "import pandas as pd\n",
    "import numpy as np\n",
    "from numpy import nan as NA"
   ]
  },
  {
   "cell_type": "code",
   "execution_count": 26,
   "id": "8fd6b5e2",
   "metadata": {},
   "outputs": [],
   "source": [
    "a = [3,2,5,72,21,68,23,5,73,256,22,56,90]"
   ]
  },
  {
   "cell_type": "markdown",
   "id": "d7a5c473",
   "metadata": {},
   "source": [
    "# Replace 90 with name"
   ]
  },
  {
   "cell_type": "code",
   "execution_count": 21,
   "id": "c38553be",
   "metadata": {},
   "outputs": [],
   "source": [
    "a[a.index(90)] = 'sainath'"
   ]
  },
  {
   "cell_type": "code",
   "execution_count": 22,
   "id": "eb7e7302",
   "metadata": {},
   "outputs": [
    {
     "data": {
      "text/plain": [
       "[3, 2, 5, 72, 21, 68, 23, 5, 73, 256, 22, 56, 'sainath']"
      ]
     },
     "execution_count": 22,
     "metadata": {},
     "output_type": "execute_result"
    }
   ],
   "source": [
    "a"
   ]
  },
  {
   "cell_type": "markdown",
   "id": "965a5496",
   "metadata": {},
   "source": [
    "###  apply append operation with example"
   ]
  },
  {
   "cell_type": "code",
   "execution_count": 23,
   "id": "e5e9848f",
   "metadata": {},
   "outputs": [
    {
     "data": {
      "text/plain": [
       "[3, 2, 5, 72, 21, 68, 23, 5, 73, 256, 22, 56, 'sainath', 69]"
      ]
     },
     "execution_count": 23,
     "metadata": {},
     "output_type": "execute_result"
    }
   ],
   "source": [
    "a.append(69)\n",
    "a"
   ]
  },
  {
   "cell_type": "markdown",
   "id": "7b6c7a65",
   "metadata": {},
   "source": [
    "### apply extend operation with your own example\n"
   ]
  },
  {
   "cell_type": "code",
   "execution_count": 24,
   "id": "73f07642",
   "metadata": {},
   "outputs": [
    {
     "data": {
      "text/plain": [
       "[3, 2, 5, 72, 21, 68, 23, 5, 73, 256, 22, 56, 'sainath', 69, 89, 29, 283]"
      ]
     },
     "execution_count": 24,
     "metadata": {},
     "output_type": "execute_result"
    }
   ],
   "source": [
    "a.extend([89, 29, 283])\n",
    "a"
   ]
  },
  {
   "cell_type": "markdown",
   "id": "2219b7a3",
   "metadata": {},
   "source": [
    "# 2) Create the data Frame using dictionary for 5 countries and their capital?"
   ]
  },
  {
   "cell_type": "code",
   "execution_count": 28,
   "id": "78be1bae",
   "metadata": {},
   "outputs": [
    {
     "data": {
      "text/html": [
       "<div>\n",
       "<style scoped>\n",
       "    .dataframe tbody tr th:only-of-type {\n",
       "        vertical-align: middle;\n",
       "    }\n",
       "\n",
       "    .dataframe tbody tr th {\n",
       "        vertical-align: top;\n",
       "    }\n",
       "\n",
       "    .dataframe thead th {\n",
       "        text-align: right;\n",
       "    }\n",
       "</style>\n",
       "<table border=\"1\" class=\"dataframe\">\n",
       "  <thead>\n",
       "    <tr style=\"text-align: right;\">\n",
       "      <th></th>\n",
       "      <th>Countries</th>\n",
       "      <th>Capital</th>\n",
       "    </tr>\n",
       "  </thead>\n",
       "  <tbody>\n",
       "    <tr>\n",
       "      <th>0</th>\n",
       "      <td>India</td>\n",
       "      <td>New Delhi</td>\n",
       "    </tr>\n",
       "    <tr>\n",
       "      <th>1</th>\n",
       "      <td>Australia</td>\n",
       "      <td>Sydney</td>\n",
       "    </tr>\n",
       "    <tr>\n",
       "      <th>2</th>\n",
       "      <td>France</td>\n",
       "      <td>Paris</td>\n",
       "    </tr>\n",
       "    <tr>\n",
       "      <th>3</th>\n",
       "      <td>Japan</td>\n",
       "      <td>Tokyo</td>\n",
       "    </tr>\n",
       "    <tr>\n",
       "      <th>4</th>\n",
       "      <td>China</td>\n",
       "      <td>Beijeing</td>\n",
       "    </tr>\n",
       "  </tbody>\n",
       "</table>\n",
       "</div>"
      ],
      "text/plain": [
       "   Countries    Capital\n",
       "0      India  New Delhi\n",
       "1  Australia     Sydney\n",
       "2     France      Paris\n",
       "3      Japan      Tokyo\n",
       "4      China   Beijeing"
      ]
     },
     "execution_count": 28,
     "metadata": {},
     "output_type": "execute_result"
    }
   ],
   "source": [
    "d = {\n",
    "    'Countries':['India', 'Australia', 'France', 'Japan', 'China'],\n",
    "    'Capital':['New Delhi', 'Sydney', 'Paris', 'Tokyo', 'Beijeing']\n",
    "}\n",
    "df = pd.DataFrame(d)\n",
    "df"
   ]
  },
  {
   "cell_type": "markdown",
   "id": "c21c1b89",
   "metadata": {},
   "source": [
    "# 3)Create the Data Frame using List with your name, roll no, marks for three subjects?"
   ]
  },
  {
   "cell_type": "code",
   "execution_count": 30,
   "id": "a2a3db64",
   "metadata": {},
   "outputs": [
    {
     "data": {
      "text/html": [
       "<div>\n",
       "<style scoped>\n",
       "    .dataframe tbody tr th:only-of-type {\n",
       "        vertical-align: middle;\n",
       "    }\n",
       "\n",
       "    .dataframe tbody tr th {\n",
       "        vertical-align: top;\n",
       "    }\n",
       "\n",
       "    .dataframe thead th {\n",
       "        text-align: right;\n",
       "    }\n",
       "</style>\n",
       "<table border=\"1\" class=\"dataframe\">\n",
       "  <thead>\n",
       "    <tr style=\"text-align: right;\">\n",
       "      <th></th>\n",
       "      <th>Name</th>\n",
       "      <th>Roll No</th>\n",
       "      <th>M2</th>\n",
       "      <th>AP</th>\n",
       "      <th>BEEE</th>\n",
       "    </tr>\n",
       "  </thead>\n",
       "  <tbody>\n",
       "    <tr>\n",
       "      <th>0</th>\n",
       "      <td>Sai</td>\n",
       "      <td>86</td>\n",
       "      <td>90</td>\n",
       "      <td>100</td>\n",
       "      <td>78</td>\n",
       "    </tr>\n",
       "    <tr>\n",
       "      <th>1</th>\n",
       "      <td>Abi</td>\n",
       "      <td>2</td>\n",
       "      <td>76</td>\n",
       "      <td>23</td>\n",
       "      <td>87</td>\n",
       "    </tr>\n",
       "    <tr>\n",
       "      <th>2</th>\n",
       "      <td>Ansh</td>\n",
       "      <td>8</td>\n",
       "      <td>0</td>\n",
       "      <td>0</td>\n",
       "      <td>76</td>\n",
       "    </tr>\n",
       "  </tbody>\n",
       "</table>\n",
       "</div>"
      ],
      "text/plain": [
       "   Name  Roll No  M2   AP  BEEE\n",
       "0   Sai       86  90  100    78\n",
       "1   Abi        2  76   23    87\n",
       "2  Ansh        8   0    0    76"
      ]
     },
     "execution_count": 30,
     "metadata": {},
     "output_type": "execute_result"
    }
   ],
   "source": [
    "d2 = [['Sai', 86, 90, 100, 78],\n",
    "      ['Abi', 2, 76, 23, 87],\n",
    "      ['Ansh', 8, 0, 0, 76]]\n",
    "df2 = pd.DataFrame(d2, columns=['Name', 'Roll No', 'M2', 'AP', 'BEEE'])\n",
    "df2"
   ]
  },
  {
   "cell_type": "markdown",
   "id": "397b883f",
   "metadata": {},
   "source": [
    "# Missing Values"
   ]
  },
  {
   "cell_type": "code",
   "execution_count": 40,
   "id": "07183976",
   "metadata": {},
   "outputs": [
    {
     "data": {
      "text/html": [
       "<div>\n",
       "<style scoped>\n",
       "    .dataframe tbody tr th:only-of-type {\n",
       "        vertical-align: middle;\n",
       "    }\n",
       "\n",
       "    .dataframe tbody tr th {\n",
       "        vertical-align: top;\n",
       "    }\n",
       "\n",
       "    .dataframe thead th {\n",
       "        text-align: right;\n",
       "    }\n",
       "</style>\n",
       "<table border=\"1\" class=\"dataframe\">\n",
       "  <thead>\n",
       "    <tr style=\"text-align: right;\">\n",
       "      <th></th>\n",
       "      <th>Name</th>\n",
       "      <th>Roll No</th>\n",
       "      <th>M2</th>\n",
       "      <th>AP</th>\n",
       "      <th>BEEE</th>\n",
       "    </tr>\n",
       "  </thead>\n",
       "  <tbody>\n",
       "    <tr>\n",
       "      <th>0</th>\n",
       "      <td>Sai</td>\n",
       "      <td>NaN</td>\n",
       "      <td>90</td>\n",
       "      <td>100</td>\n",
       "      <td>78</td>\n",
       "    </tr>\n",
       "    <tr>\n",
       "      <th>1</th>\n",
       "      <td>Abi</td>\n",
       "      <td>2.0</td>\n",
       "      <td>76</td>\n",
       "      <td>23</td>\n",
       "      <td>87</td>\n",
       "    </tr>\n",
       "    <tr>\n",
       "      <th>2</th>\n",
       "      <td>Ansh</td>\n",
       "      <td>NaN</td>\n",
       "      <td>0</td>\n",
       "      <td>0</td>\n",
       "      <td>76</td>\n",
       "    </tr>\n",
       "  </tbody>\n",
       "</table>\n",
       "</div>"
      ],
      "text/plain": [
       "   Name  Roll No  M2   AP  BEEE\n",
       "0   Sai      NaN  90  100    78\n",
       "1   Abi      2.0  76   23    87\n",
       "2  Ansh      NaN   0    0    76"
      ]
     },
     "execution_count": 40,
     "metadata": {},
     "output_type": "execute_result"
    }
   ],
   "source": [
    "d3 = [['Sai', NA, 90, 100, 78],\n",
    "      ['Abi', 2, 76, 23, 87],\n",
    "      ['Ansh', NA, 0, 0, 76]]\n",
    "df3 = pd.DataFrame(d3, columns=['Name', 'Roll No', 'M2', 'AP', 'BEEE'])\n",
    "df3"
   ]
  },
  {
   "cell_type": "code",
   "execution_count": 45,
   "id": "1ab93b91",
   "metadata": {},
   "outputs": [
    {
     "data": {
      "text/html": [
       "<div>\n",
       "<style scoped>\n",
       "    .dataframe tbody tr th:only-of-type {\n",
       "        vertical-align: middle;\n",
       "    }\n",
       "\n",
       "    .dataframe tbody tr th {\n",
       "        vertical-align: top;\n",
       "    }\n",
       "\n",
       "    .dataframe thead th {\n",
       "        text-align: right;\n",
       "    }\n",
       "</style>\n",
       "<table border=\"1\" class=\"dataframe\">\n",
       "  <thead>\n",
       "    <tr style=\"text-align: right;\">\n",
       "      <th></th>\n",
       "      <th>Roll No</th>\n",
       "      <th>M2</th>\n",
       "      <th>AP</th>\n",
       "      <th>BEEE</th>\n",
       "    </tr>\n",
       "    <tr>\n",
       "      <th>Name</th>\n",
       "      <th></th>\n",
       "      <th></th>\n",
       "      <th></th>\n",
       "      <th></th>\n",
       "    </tr>\n",
       "  </thead>\n",
       "  <tbody>\n",
       "    <tr>\n",
       "      <th>Sai</th>\n",
       "      <td>NaN</td>\n",
       "      <td>90</td>\n",
       "      <td>100</td>\n",
       "      <td>78</td>\n",
       "    </tr>\n",
       "    <tr>\n",
       "      <th>Abi</th>\n",
       "      <td>2.0</td>\n",
       "      <td>76</td>\n",
       "      <td>23</td>\n",
       "      <td>87</td>\n",
       "    </tr>\n",
       "    <tr>\n",
       "      <th>Ansh</th>\n",
       "      <td>NaN</td>\n",
       "      <td>0</td>\n",
       "      <td>0</td>\n",
       "      <td>76</td>\n",
       "    </tr>\n",
       "  </tbody>\n",
       "</table>\n",
       "</div>"
      ],
      "text/plain": [
       "      Roll No  M2   AP  BEEE\n",
       "Name                        \n",
       "Sai       NaN  90  100    78\n",
       "Abi       2.0  76   23    87\n",
       "Ansh      NaN   0    0    76"
      ]
     },
     "execution_count": 45,
     "metadata": {},
     "output_type": "execute_result"
    }
   ],
   "source": [
    "df3.set_index('Name', inplace=True)\n",
    "df3"
   ]
  },
  {
   "cell_type": "code",
   "execution_count": 65,
   "id": "738fbe26",
   "metadata": {},
   "outputs": [
    {
     "data": {
      "text/html": [
       "<div>\n",
       "<style scoped>\n",
       "    .dataframe tbody tr th:only-of-type {\n",
       "        vertical-align: middle;\n",
       "    }\n",
       "\n",
       "    .dataframe tbody tr th {\n",
       "        vertical-align: top;\n",
       "    }\n",
       "\n",
       "    .dataframe thead th {\n",
       "        text-align: right;\n",
       "    }\n",
       "</style>\n",
       "<table border=\"1\" class=\"dataframe\">\n",
       "  <thead>\n",
       "    <tr style=\"text-align: right;\">\n",
       "      <th></th>\n",
       "      <th>Roll No</th>\n",
       "      <th>M2</th>\n",
       "      <th>AP</th>\n",
       "      <th>BEEE</th>\n",
       "    </tr>\n",
       "    <tr>\n",
       "      <th>Name</th>\n",
       "      <th></th>\n",
       "      <th></th>\n",
       "      <th></th>\n",
       "      <th></th>\n",
       "    </tr>\n",
       "  </thead>\n",
       "  <tbody>\n",
       "    <tr>\n",
       "      <th>Sai</th>\n",
       "      <td>NaN</td>\n",
       "      <td>90</td>\n",
       "      <td>100</td>\n",
       "      <td>78</td>\n",
       "    </tr>\n",
       "    <tr>\n",
       "      <th>Ansh</th>\n",
       "      <td>NaN</td>\n",
       "      <td>0</td>\n",
       "      <td>0</td>\n",
       "      <td>76</td>\n",
       "    </tr>\n",
       "  </tbody>\n",
       "</table>\n",
       "</div>"
      ],
      "text/plain": [
       "      Roll No  M2   AP  BEEE\n",
       "Name                        \n",
       "Sai       NaN  90  100    78\n",
       "Ansh      NaN   0    0    76"
      ]
     },
     "execution_count": 65,
     "metadata": {},
     "output_type": "execute_result"
    }
   ],
   "source": [
    "df3[df3.isna().sum(axis=1).astype(bool)]"
   ]
  },
  {
   "cell_type": "code",
   "execution_count": 75,
   "id": "1c8c9594",
   "metadata": {},
   "outputs": [
    {
     "name": "stdout",
     "output_type": "stream",
     "text": [
      "\\n hello\n"
     ]
    }
   ],
   "source": [
    "s = '\\nHello'\n",
    "print(r'\\n hello')"
   ]
  },
  {
   "cell_type": "code",
   "execution_count": 76,
   "id": "5ec78e3d",
   "metadata": {},
   "outputs": [],
   "source": [
    "import re"
   ]
  },
  {
   "cell_type": "code",
   "execution_count": 78,
   "id": "ef3ee801",
   "metadata": {},
   "outputs": [
    {
     "name": "stdout",
     "output_type": "stream",
     "text": [
      "<re.Match object; span=(0, 3), match='abc'>\n",
      "<re.Match object; span=(12, 15), match='abc'>\n"
     ]
    }
   ],
   "source": [
    "text = 'abcdefABCDEFabc'\n",
    "pattern = re.compile(r'abc')\n",
    "matches = pattern.finditer(text)\n",
    "for i in matches:\n",
    "    print(i)"
   ]
  },
  {
   "cell_type": "code",
   "execution_count": 84,
   "id": "b4188bc0",
   "metadata": {},
   "outputs": [
    {
     "name": "stdout",
     "output_type": "stream",
     "text": [
      "<re.Match object; span=(1, 13), match='321-555-4321'>\n",
      "<re.Match object; span=(14, 26), match='123.555.1234'>\n",
      "<re.Match object; span=(27, 39), match='123*555*4352'>\n"
     ]
    }
   ],
   "source": [
    "sti = '''\n",
    "321-555-4321\n",
    "123.555.1234\n",
    "123*555*4352\n",
    "'''\n",
    "\n",
    "pattern = re.compile(r'\\d\\d\\d.\\d\\d\\d.\\d\\d\\d\\d')\n",
    "matches = pattern.finditer(sti)\n",
    "for i in matches:\n",
    "    print(i)"
   ]
  },
  {
   "cell_type": "code",
   "execution_count": 100,
   "id": "92ff785b",
   "metadata": {},
   "outputs": [],
   "source": [
    "persons = '''\n",
    "Mr. Schafer\n",
    "Mr smith\n",
    "Mr davis\n",
    "Mrs. Robinson\n",
    "Mr. T\n",
    "'''\n",
    "pattern = re.compile(r'Mr\\.?\\s[A-z]/w+')\n",
    "matches = pattern.finditer(persons)\n",
    "for i in matches:\n",
    "    print(i)"
   ]
  },
  {
   "cell_type": "code",
   "execution_count": null,
   "id": "41fc7896",
   "metadata": {},
   "outputs": [],
   "source": []
  }
 ],
 "metadata": {
  "kernelspec": {
   "display_name": "Python 3 (ipykernel)",
   "language": "python",
   "name": "python3"
  },
  "language_info": {
   "codemirror_mode": {
    "name": "ipython",
    "version": 3
   },
   "file_extension": ".py",
   "mimetype": "text/x-python",
   "name": "python",
   "nbconvert_exporter": "python",
   "pygments_lexer": "ipython3",
   "version": "3.9.17"
  }
 },
 "nbformat": 4,
 "nbformat_minor": 5
}
